{
 "cells": [
  {
   "cell_type": "markdown",
   "id": "d2443a27",
   "metadata": {},
   "source": [
    "# Business Questions about JobSatisfaction:\n",
    "### 1) What about the JobSatisfaction by Gender?\n",
    "### 2) Does Salary have an influence on JobSatisfation?\n",
    "### 3) Does HoursPerWeek have an impact on JobSaticfation?"
   ]
  },
  {
   "cell_type": "code",
   "execution_count": 117,
   "id": "aed92a3a",
   "metadata": {},
   "outputs": [],
   "source": [
    "import pandas as pd\n",
    "import numpy as np\n",
    "import seaborn as sb\n",
    "import matplotlib.pyplot as plt\n",
    "%matplotlib inline"
   ]
  },
  {
   "cell_type": "code",
   "execution_count": 71,
   "id": "e68338f5",
   "metadata": {},
   "outputs": [
    {
     "data": {
      "text/html": [
       "<div>\n",
       "<style scoped>\n",
       "    .dataframe tbody tr th:only-of-type {\n",
       "        vertical-align: middle;\n",
       "    }\n",
       "\n",
       "    .dataframe tbody tr th {\n",
       "        vertical-align: top;\n",
       "    }\n",
       "\n",
       "    .dataframe thead th {\n",
       "        text-align: right;\n",
       "    }\n",
       "</style>\n",
       "<table border=\"1\" class=\"dataframe\">\n",
       "  <thead>\n",
       "    <tr style=\"text-align: right;\">\n",
       "      <th></th>\n",
       "      <th>Respondent</th>\n",
       "      <th>Professional</th>\n",
       "      <th>ProgramHobby</th>\n",
       "      <th>Country</th>\n",
       "      <th>University</th>\n",
       "      <th>EmploymentStatus</th>\n",
       "      <th>FormalEducation</th>\n",
       "      <th>MajorUndergrad</th>\n",
       "      <th>HomeRemote</th>\n",
       "      <th>CompanySize</th>\n",
       "      <th>...</th>\n",
       "      <th>StackOverflowMakeMoney</th>\n",
       "      <th>Gender</th>\n",
       "      <th>HighestEducationParents</th>\n",
       "      <th>Race</th>\n",
       "      <th>SurveyLong</th>\n",
       "      <th>QuestionsInteresting</th>\n",
       "      <th>QuestionsConfusing</th>\n",
       "      <th>InterestedAnswers</th>\n",
       "      <th>Salary</th>\n",
       "      <th>ExpectedSalary</th>\n",
       "    </tr>\n",
       "  </thead>\n",
       "  <tbody>\n",
       "    <tr>\n",
       "      <th>0</th>\n",
       "      <td>1</td>\n",
       "      <td>Student</td>\n",
       "      <td>Yes, both</td>\n",
       "      <td>United States</td>\n",
       "      <td>No</td>\n",
       "      <td>Not employed, and not looking for work</td>\n",
       "      <td>Secondary school</td>\n",
       "      <td>NaN</td>\n",
       "      <td>NaN</td>\n",
       "      <td>NaN</td>\n",
       "      <td>...</td>\n",
       "      <td>Strongly disagree</td>\n",
       "      <td>Male</td>\n",
       "      <td>High school</td>\n",
       "      <td>White or of European descent</td>\n",
       "      <td>Strongly disagree</td>\n",
       "      <td>Strongly agree</td>\n",
       "      <td>Disagree</td>\n",
       "      <td>Strongly agree</td>\n",
       "      <td>NaN</td>\n",
       "      <td>NaN</td>\n",
       "    </tr>\n",
       "    <tr>\n",
       "      <th>1</th>\n",
       "      <td>2</td>\n",
       "      <td>Student</td>\n",
       "      <td>Yes, both</td>\n",
       "      <td>United Kingdom</td>\n",
       "      <td>Yes, full-time</td>\n",
       "      <td>Employed part-time</td>\n",
       "      <td>Some college/university study without earning ...</td>\n",
       "      <td>Computer science or software engineering</td>\n",
       "      <td>More than half, but not all, the time</td>\n",
       "      <td>20 to 99 employees</td>\n",
       "      <td>...</td>\n",
       "      <td>Strongly disagree</td>\n",
       "      <td>Male</td>\n",
       "      <td>A master's degree</td>\n",
       "      <td>White or of European descent</td>\n",
       "      <td>Somewhat agree</td>\n",
       "      <td>Somewhat agree</td>\n",
       "      <td>Disagree</td>\n",
       "      <td>Strongly agree</td>\n",
       "      <td>NaN</td>\n",
       "      <td>37500.0</td>\n",
       "    </tr>\n",
       "    <tr>\n",
       "      <th>2</th>\n",
       "      <td>3</td>\n",
       "      <td>Professional developer</td>\n",
       "      <td>Yes, both</td>\n",
       "      <td>United Kingdom</td>\n",
       "      <td>No</td>\n",
       "      <td>Employed full-time</td>\n",
       "      <td>Bachelor's degree</td>\n",
       "      <td>Computer science or software engineering</td>\n",
       "      <td>Less than half the time, but at least one day ...</td>\n",
       "      <td>10,000 or more employees</td>\n",
       "      <td>...</td>\n",
       "      <td>Disagree</td>\n",
       "      <td>Male</td>\n",
       "      <td>A professional degree</td>\n",
       "      <td>White or of European descent</td>\n",
       "      <td>Somewhat agree</td>\n",
       "      <td>Agree</td>\n",
       "      <td>Disagree</td>\n",
       "      <td>Agree</td>\n",
       "      <td>113750.0</td>\n",
       "      <td>NaN</td>\n",
       "    </tr>\n",
       "    <tr>\n",
       "      <th>3</th>\n",
       "      <td>4</td>\n",
       "      <td>Professional non-developer who sometimes write...</td>\n",
       "      <td>Yes, both</td>\n",
       "      <td>United States</td>\n",
       "      <td>No</td>\n",
       "      <td>Employed full-time</td>\n",
       "      <td>Doctoral degree</td>\n",
       "      <td>A non-computer-focused engineering discipline</td>\n",
       "      <td>Less than half the time, but at least one day ...</td>\n",
       "      <td>10,000 or more employees</td>\n",
       "      <td>...</td>\n",
       "      <td>Disagree</td>\n",
       "      <td>Male</td>\n",
       "      <td>A doctoral degree</td>\n",
       "      <td>White or of European descent</td>\n",
       "      <td>Agree</td>\n",
       "      <td>Agree</td>\n",
       "      <td>Somewhat agree</td>\n",
       "      <td>Strongly agree</td>\n",
       "      <td>NaN</td>\n",
       "      <td>NaN</td>\n",
       "    </tr>\n",
       "    <tr>\n",
       "      <th>4</th>\n",
       "      <td>5</td>\n",
       "      <td>Professional developer</td>\n",
       "      <td>Yes, I program as a hobby</td>\n",
       "      <td>Switzerland</td>\n",
       "      <td>No</td>\n",
       "      <td>Employed full-time</td>\n",
       "      <td>Master's degree</td>\n",
       "      <td>Computer science or software engineering</td>\n",
       "      <td>Never</td>\n",
       "      <td>10 to 19 employees</td>\n",
       "      <td>...</td>\n",
       "      <td>NaN</td>\n",
       "      <td>NaN</td>\n",
       "      <td>NaN</td>\n",
       "      <td>NaN</td>\n",
       "      <td>NaN</td>\n",
       "      <td>NaN</td>\n",
       "      <td>NaN</td>\n",
       "      <td>NaN</td>\n",
       "      <td>NaN</td>\n",
       "      <td>NaN</td>\n",
       "    </tr>\n",
       "  </tbody>\n",
       "</table>\n",
       "<p>5 rows × 154 columns</p>\n",
       "</div>"
      ],
      "text/plain": [
       "   Respondent                                       Professional  \\\n",
       "0           1                                            Student   \n",
       "1           2                                            Student   \n",
       "2           3                             Professional developer   \n",
       "3           4  Professional non-developer who sometimes write...   \n",
       "4           5                             Professional developer   \n",
       "\n",
       "                ProgramHobby         Country      University  \\\n",
       "0                  Yes, both   United States              No   \n",
       "1                  Yes, both  United Kingdom  Yes, full-time   \n",
       "2                  Yes, both  United Kingdom              No   \n",
       "3                  Yes, both   United States              No   \n",
       "4  Yes, I program as a hobby     Switzerland              No   \n",
       "\n",
       "                         EmploymentStatus  \\\n",
       "0  Not employed, and not looking for work   \n",
       "1                      Employed part-time   \n",
       "2                      Employed full-time   \n",
       "3                      Employed full-time   \n",
       "4                      Employed full-time   \n",
       "\n",
       "                                     FormalEducation  \\\n",
       "0                                   Secondary school   \n",
       "1  Some college/university study without earning ...   \n",
       "2                                  Bachelor's degree   \n",
       "3                                    Doctoral degree   \n",
       "4                                    Master's degree   \n",
       "\n",
       "                                  MajorUndergrad  \\\n",
       "0                                            NaN   \n",
       "1       Computer science or software engineering   \n",
       "2       Computer science or software engineering   \n",
       "3  A non-computer-focused engineering discipline   \n",
       "4       Computer science or software engineering   \n",
       "\n",
       "                                          HomeRemote  \\\n",
       "0                                                NaN   \n",
       "1              More than half, but not all, the time   \n",
       "2  Less than half the time, but at least one day ...   \n",
       "3  Less than half the time, but at least one day ...   \n",
       "4                                              Never   \n",
       "\n",
       "                CompanySize  ... StackOverflowMakeMoney Gender  \\\n",
       "0                       NaN  ...      Strongly disagree   Male   \n",
       "1        20 to 99 employees  ...      Strongly disagree   Male   \n",
       "2  10,000 or more employees  ...               Disagree   Male   \n",
       "3  10,000 or more employees  ...               Disagree   Male   \n",
       "4        10 to 19 employees  ...                    NaN    NaN   \n",
       "\n",
       "  HighestEducationParents                          Race         SurveyLong  \\\n",
       "0             High school  White or of European descent  Strongly disagree   \n",
       "1       A master's degree  White or of European descent     Somewhat agree   \n",
       "2   A professional degree  White or of European descent     Somewhat agree   \n",
       "3       A doctoral degree  White or of European descent              Agree   \n",
       "4                     NaN                           NaN                NaN   \n",
       "\n",
       "  QuestionsInteresting QuestionsConfusing InterestedAnswers    Salary  \\\n",
       "0       Strongly agree           Disagree    Strongly agree       NaN   \n",
       "1       Somewhat agree           Disagree    Strongly agree       NaN   \n",
       "2                Agree           Disagree             Agree  113750.0   \n",
       "3                Agree     Somewhat agree    Strongly agree       NaN   \n",
       "4                  NaN                NaN               NaN       NaN   \n",
       "\n",
       "   ExpectedSalary  \n",
       "0             NaN  \n",
       "1         37500.0  \n",
       "2             NaN  \n",
       "3             NaN  \n",
       "4             NaN  \n",
       "\n",
       "[5 rows x 154 columns]"
      ]
     },
     "execution_count": 71,
     "metadata": {},
     "output_type": "execute_result"
    }
   ],
   "source": [
    "df = pd.read_csv('survey-results-public.csv')\n",
    "df.head()"
   ]
  },
  {
   "cell_type": "code",
   "execution_count": 72,
   "id": "721c4e48",
   "metadata": {},
   "outputs": [],
   "source": [
    "def prepare_df(df, cols_to_keep):\n",
    "    '''\n",
    "    INPUT\n",
    "    df - pandas dataframe\n",
    "    cols_to_keep - list of columns you want to consider in yout dataframe\n",
    "    \n",
    "    OUTPUT\n",
    "    df_clean - A dataframe holding all columns yo want to consider\n",
    "    \n",
    "    This function cleans df using the folowing steps:\n",
    "    1. Drop all columns except the cols_to_keep\n",
    "    2. Drop all rows with NAN-Values\n",
    "    '''\n",
    "    \n",
    "    #1. Drop all columns except the cols_to_keep\n",
    "    df = df[cols_to_keep]\n",
    "    \n",
    "    #2. Drop all rows with NAN-Values\n",
    "    df = df.dropna()\n",
    "    \n",
    "    return df"
   ]
  },
  {
   "cell_type": "markdown",
   "id": "a7a28d12",
   "metadata": {},
   "source": [
    "> First create a picture for the article to get the readers attention."
   ]
  },
  {
   "cell_type": "code",
   "execution_count": 155,
   "id": "b41736f5",
   "metadata": {},
   "outputs": [
    {
     "data": {
      "image/png": "[encoded data removed]",
      "text/plain": [
       "<Figure size 432x288 with 1 Axes>"
      ]
     },
     "metadata": {
      "needs_background": "light"
     },
     "output_type": "display_data"
    }
   ],
   "source": [
    "df_pic = prepare_df(df, ['JobSatisfaction'])\n",
    "sb.countplot(data=df_pic, x='JobSatisfaction', palette='Blues')\n",
    "plt.title(\"JobSatisfaction in IT-Sector\")\n",
    "plt.ylabel(\"Count of Evaluations\");"
   ]
  },
  {
   "cell_type": "markdown",
   "id": "4ef68988",
   "metadata": {},
   "source": [
    "### 1) What about the JobSatisfaction by Gender?\n",
    "> After dropping the na-values the dataset contains a lot of rows (29015), so it would be appropriate to not impute <br>the JobSatisfaction column and apply the prepare_df function to do so."
   ]
  },
  {
   "cell_type": "code",
   "execution_count": 73,
   "id": "e643ecb4",
   "metadata": {},
   "outputs": [
    {
     "data": {
      "text/html": [
       "<div>\n",
       "<style scoped>\n",
       "    .dataframe tbody tr th:only-of-type {\n",
       "        vertical-align: middle;\n",
       "    }\n",
       "\n",
       "    .dataframe tbody tr th {\n",
       "        vertical-align: top;\n",
       "    }\n",
       "\n",
       "    .dataframe thead th {\n",
       "        text-align: right;\n",
       "    }\n",
       "</style>\n",
       "<table border=\"1\" class=\"dataframe\">\n",
       "  <thead>\n",
       "    <tr style=\"text-align: right;\">\n",
       "      <th></th>\n",
       "      <th>JobSatisfaction</th>\n",
       "      <th>Gender</th>\n",
       "    </tr>\n",
       "  </thead>\n",
       "  <tbody>\n",
       "    <tr>\n",
       "      <th>2</th>\n",
       "      <td>9.0</td>\n",
       "      <td>Male</td>\n",
       "    </tr>\n",
       "    <tr>\n",
       "      <th>3</th>\n",
       "      <td>3.0</td>\n",
       "      <td>Male</td>\n",
       "    </tr>\n",
       "    <tr>\n",
       "      <th>6</th>\n",
       "      <td>6.0</td>\n",
       "      <td>Male</td>\n",
       "    </tr>\n",
       "    <tr>\n",
       "      <th>7</th>\n",
       "      <td>7.0</td>\n",
       "      <td>Male</td>\n",
       "    </tr>\n",
       "    <tr>\n",
       "      <th>8</th>\n",
       "      <td>6.0</td>\n",
       "      <td>Male</td>\n",
       "    </tr>\n",
       "    <tr>\n",
       "      <th>...</th>\n",
       "      <td>...</td>\n",
       "      <td>...</td>\n",
       "    </tr>\n",
       "    <tr>\n",
       "      <th>51385</th>\n",
       "      <td>7.0</td>\n",
       "      <td>Female</td>\n",
       "    </tr>\n",
       "    <tr>\n",
       "      <th>51386</th>\n",
       "      <td>4.0</td>\n",
       "      <td>Male</td>\n",
       "    </tr>\n",
       "    <tr>\n",
       "      <th>51387</th>\n",
       "      <td>3.0</td>\n",
       "      <td>Male</td>\n",
       "    </tr>\n",
       "    <tr>\n",
       "      <th>51390</th>\n",
       "      <td>7.0</td>\n",
       "      <td>Male</td>\n",
       "    </tr>\n",
       "    <tr>\n",
       "      <th>51391</th>\n",
       "      <td>8.0</td>\n",
       "      <td>Male</td>\n",
       "    </tr>\n",
       "  </tbody>\n",
       "</table>\n",
       "<p>29015 rows × 2 columns</p>\n",
       "</div>"
      ],
      "text/plain": [
       "       JobSatisfaction  Gender\n",
       "2                  9.0    Male\n",
       "3                  3.0    Male\n",
       "6                  6.0    Male\n",
       "7                  7.0    Male\n",
       "8                  6.0    Male\n",
       "...                ...     ...\n",
       "51385              7.0  Female\n",
       "51386              4.0    Male\n",
       "51387              3.0    Male\n",
       "51390              7.0    Male\n",
       "51391              8.0    Male\n",
       "\n",
       "[29015 rows x 2 columns]"
      ]
     },
     "execution_count": 73,
     "metadata": {},
     "output_type": "execute_result"
    }
   ],
   "source": [
    "cols_to_keep = ['JobSatisfaction', 'Gender']\n",
    "df_gender = prepare_df(df, cols_to_keep)\n",
    "df_gender"
   ]
  },
  {
   "cell_type": "markdown",
   "id": "923d17ed",
   "metadata": {},
   "source": [
    "> Check the values of the Gender column shows that we have to clean the column."
   ]
  },
  {
   "cell_type": "code",
   "execution_count": 74,
   "id": "dc845efb",
   "metadata": {},
   "outputs": [
    {
     "data": {
      "text/plain": [
       "Male                                                       26306\n",
       "Female                                                      2130\n",
       "Other                                                        141\n",
       "Male; Other                                                  128\n",
       "Gender non-conforming                                        102\n",
       "Male; Gender non-conforming                                   47\n",
       "Transgender                                                   39\n",
       "Female; Transgender                                           34\n",
       "Female; Gender non-conforming                                 24\n",
       "Male; Female                                                  12\n",
       "Male; Female; Transgender; Gender non-conforming; Other       11\n",
       "Transgender; Gender non-conforming                            10\n",
       "Male; Transgender                                              7\n",
       "Female; Transgender; Gender non-conforming                     6\n",
       "Male; Female; Transgender; Gender non-conforming               4\n",
       "Male; Female; Transgender                                      2\n",
       "Male; Gender non-conforming; Other                             2\n",
       "Male; Female; Other                                            2\n",
       "Gender non-conforming; Other                                   2\n",
       "Male; Transgender; Gender non-conforming                       2\n",
       "Transgender; Other                                             1\n",
       "Female; Transgender; Other                                     1\n",
       "Female; Transgender; Gender non-conforming; Other              1\n",
       "Male; Transgender; Other                                       1\n",
       "Name: Gender, dtype: int64"
      ]
     },
     "execution_count": 74,
     "metadata": {},
     "output_type": "execute_result"
    }
   ],
   "source": [
    "df_gender['Gender'].value_counts()"
   ]
  },
  {
   "cell_type": "markdown",
   "id": "f23a569e",
   "metadata": {},
   "source": [
    "> Every row which contains \"Transgender\" should become \"Transgender\"."
   ]
  },
  {
   "cell_type": "code",
   "execution_count": 75,
   "id": "9bf10dff",
   "metadata": {},
   "outputs": [
    {
     "data": {
      "text/plain": [
       "Male                                  26306\n",
       "Female                                 2130\n",
       "Other                                   141\n",
       "Male; Other                             128\n",
       "Transgender                             119\n",
       "Gender non-conforming                   102\n",
       "Male; Gender non-conforming              47\n",
       "Female; Gender non-conforming            24\n",
       "Male; Female                             12\n",
       "Male; Female; Other                       2\n",
       "Gender non-conforming; Other              2\n",
       "Male; Gender non-conforming; Other        2\n",
       "Name: Gender, dtype: int64"
      ]
     },
     "execution_count": 75,
     "metadata": {},
     "output_type": "execute_result"
    }
   ],
   "source": [
    "gender = df_gender['Gender'].unique()\n",
    "\n",
    "to_replace = []\n",
    "\n",
    "for i in gender:\n",
    "    if i.find(\"Transgender\") == -1:\n",
    "        continue\n",
    "    else:\n",
    "        to_replace.append(i)\n",
    "        \n",
    "df_gender['Gender'].replace(to_replace, value='Transgender', inplace=True)\n",
    "df_gender['Gender'].value_counts()"
   ]
  },
  {
   "cell_type": "markdown",
   "id": "5e1117e9",
   "metadata": {},
   "source": [
    "> Only keep Female, Male, Transgender."
   ]
  },
  {
   "cell_type": "code",
   "execution_count": 76,
   "id": "3f243bd0",
   "metadata": {},
   "outputs": [
    {
     "data": {
      "text/plain": [
       "Male           26306\n",
       "Female          2130\n",
       "Transgender      119\n",
       "Name: Gender, dtype: int64"
      ]
     },
     "execution_count": 76,
     "metadata": {},
     "output_type": "execute_result"
    }
   ],
   "source": [
    "df_gender = df_gender.query('Gender in [\"Female\", \"Male\", \"Transgender\"]')\n",
    "df_gender['Gender'].value_counts()"
   ]
  },
  {
   "cell_type": "code",
   "execution_count": 84,
   "id": "78d44f28",
   "metadata": {},
   "outputs": [
    {
     "data": {
      "text/html": [
       "<div>\n",
       "<style scoped>\n",
       "    .dataframe tbody tr th:only-of-type {\n",
       "        vertical-align: middle;\n",
       "    }\n",
       "\n",
       "    .dataframe tbody tr th {\n",
       "        vertical-align: top;\n",
       "    }\n",
       "\n",
       "    .dataframe thead th {\n",
       "        text-align: right;\n",
       "    }\n",
       "</style>\n",
       "<table border=\"1\" class=\"dataframe\">\n",
       "  <thead>\n",
       "    <tr style=\"text-align: right;\">\n",
       "      <th></th>\n",
       "      <th>Gender</th>\n",
       "      <th>JobSatisfaction</th>\n",
       "    </tr>\n",
       "  </thead>\n",
       "  <tbody>\n",
       "    <tr>\n",
       "      <th>0</th>\n",
       "      <td>Female</td>\n",
       "      <td>6.936620</td>\n",
       "    </tr>\n",
       "    <tr>\n",
       "      <th>1</th>\n",
       "      <td>Male</td>\n",
       "      <td>7.004372</td>\n",
       "    </tr>\n",
       "    <tr>\n",
       "      <th>2</th>\n",
       "      <td>Transgender</td>\n",
       "      <td>6.672269</td>\n",
       "    </tr>\n",
       "  </tbody>\n",
       "</table>\n",
       "</div>"
      ],
      "text/plain": [
       "        Gender  JobSatisfaction\n",
       "0       Female         6.936620\n",
       "1         Male         7.004372\n",
       "2  Transgender         6.672269"
      ]
     },
     "execution_count": 84,
     "metadata": {},
     "output_type": "execute_result"
    }
   ],
   "source": [
    "df_gender_mean = df_gender.groupby('Gender', as_index=False).mean()\n",
    "df_gender_mean"
   ]
  },
  {
   "cell_type": "code",
   "execution_count": 153,
   "id": "349fa936",
   "metadata": {},
   "outputs": [
    {
     "data": {
      "image/png": "[encoded data removed]",
      "text/plain": [
       "<Figure size 432x288 with 1 Axes>"
      ]
     },
     "metadata": {
      "needs_background": "light"
     },
     "output_type": "display_data"
    }
   ],
   "source": [
    "sb.barplot(data=df_gender, x='Gender', y='JobSatisfaction')\n",
    "plt.title(\"Average JobSatisfaction by Gender\")\n",
    "plt.ylabel(\"JobSatisfaction\")\n",
    "plt.ylim(6, 7.1);"
   ]
  },
  {
   "cell_type": "markdown",
   "id": "476b3020",
   "metadata": {},
   "source": [
    "### 2) Does Salary have an influence on JobSatisfation?\n",
    "> After dropping the na-values the dataset contains a lot of rows (12852), so it would be appropriate to not impute <br> the columns and apply the prepare_df function to do so."
   ]
  },
  {
   "cell_type": "code",
   "execution_count": 124,
   "id": "6ddc51e8",
   "metadata": {},
   "outputs": [
    {
     "data": {
      "text/html": [
       "<div>\n",
       "<style scoped>\n",
       "    .dataframe tbody tr th:only-of-type {\n",
       "        vertical-align: middle;\n",
       "    }\n",
       "\n",
       "    .dataframe tbody tr th {\n",
       "        vertical-align: top;\n",
       "    }\n",
       "\n",
       "    .dataframe thead th {\n",
       "        text-align: right;\n",
       "    }\n",
       "</style>\n",
       "<table border=\"1\" class=\"dataframe\">\n",
       "  <thead>\n",
       "    <tr style=\"text-align: right;\">\n",
       "      <th></th>\n",
       "      <th>JobSatisfaction</th>\n",
       "      <th>Salary</th>\n",
       "    </tr>\n",
       "  </thead>\n",
       "  <tbody>\n",
       "    <tr>\n",
       "      <th>2</th>\n",
       "      <td>9.0</td>\n",
       "      <td>113750.000000</td>\n",
       "    </tr>\n",
       "    <tr>\n",
       "      <th>14</th>\n",
       "      <td>8.0</td>\n",
       "      <td>100000.000000</td>\n",
       "    </tr>\n",
       "    <tr>\n",
       "      <th>17</th>\n",
       "      <td>8.0</td>\n",
       "      <td>130000.000000</td>\n",
       "    </tr>\n",
       "    <tr>\n",
       "      <th>18</th>\n",
       "      <td>3.0</td>\n",
       "      <td>82500.000000</td>\n",
       "    </tr>\n",
       "    <tr>\n",
       "      <th>22</th>\n",
       "      <td>9.0</td>\n",
       "      <td>100764.000000</td>\n",
       "    </tr>\n",
       "    <tr>\n",
       "      <th>...</th>\n",
       "      <td>...</td>\n",
       "      <td>...</td>\n",
       "    </tr>\n",
       "    <tr>\n",
       "      <th>51371</th>\n",
       "      <td>7.0</td>\n",
       "      <td>74193.548387</td>\n",
       "    </tr>\n",
       "    <tr>\n",
       "      <th>51378</th>\n",
       "      <td>10.0</td>\n",
       "      <td>107526.881720</td>\n",
       "    </tr>\n",
       "    <tr>\n",
       "      <th>51382</th>\n",
       "      <td>5.0</td>\n",
       "      <td>32258.064516</td>\n",
       "    </tr>\n",
       "    <tr>\n",
       "      <th>51387</th>\n",
       "      <td>3.0</td>\n",
       "      <td>58000.000000</td>\n",
       "    </tr>\n",
       "    <tr>\n",
       "      <th>51390</th>\n",
       "      <td>7.0</td>\n",
       "      <td>40000.000000</td>\n",
       "    </tr>\n",
       "  </tbody>\n",
       "</table>\n",
       "<p>12852 rows × 2 columns</p>\n",
       "</div>"
      ],
      "text/plain": [
       "       JobSatisfaction         Salary\n",
       "2                  9.0  113750.000000\n",
       "14                 8.0  100000.000000\n",
       "17                 8.0  130000.000000\n",
       "18                 3.0   82500.000000\n",
       "22                 9.0  100764.000000\n",
       "...                ...            ...\n",
       "51371              7.0   74193.548387\n",
       "51378             10.0  107526.881720\n",
       "51382              5.0   32258.064516\n",
       "51387              3.0   58000.000000\n",
       "51390              7.0   40000.000000\n",
       "\n",
       "[12852 rows x 2 columns]"
      ]
     },
     "execution_count": 124,
     "metadata": {},
     "output_type": "execute_result"
    }
   ],
   "source": [
    "cols_to_keep = ['JobSatisfaction', 'Salary']\n",
    "df_salary = prepare_df(df, cols_to_keep)\n",
    "df_salary"
   ]
  },
  {
   "cell_type": "code",
   "execution_count": 123,
   "id": "c8b68cca",
   "metadata": {},
   "outputs": [
    {
     "data": {
      "image/png": "[encoded data removed]",
      "text/plain": [
       "<Figure size 432x288 with 1 Axes>"
      ]
     },
     "metadata": {
      "needs_background": "light"
     },
     "output_type": "display_data"
    }
   ],
   "source": [
    "sb.barplot(data=df_salary, x='JobSatisfaction', y='Salary', palette='Greens')\n",
    "plt.title(\"Average Salary by JobSatisfaction\")\n",
    "plt.ylabel(\"Average Salary in USD\");"
   ]
  },
  {
   "cell_type": "markdown",
   "id": "d7dfb112",
   "metadata": {},
   "source": [
    "### 3) Does HoursPerWeek have an impact on JobSaticfation?\n",
    "> After dropping the na-values the dataset contains a lot of rows (16508), so it would be appropriate to not impute <br> the columns and apply the prepare_df function to do so.\n"
   ]
  },
  {
   "cell_type": "code",
   "execution_count": 129,
   "id": "dabff02c",
   "metadata": {},
   "outputs": [
    {
     "data": {
      "text/html": [
       "<div>\n",
       "<style scoped>\n",
       "    .dataframe tbody tr th:only-of-type {\n",
       "        vertical-align: middle;\n",
       "    }\n",
       "\n",
       "    .dataframe tbody tr th {\n",
       "        vertical-align: top;\n",
       "    }\n",
       "\n",
       "    .dataframe thead th {\n",
       "        text-align: right;\n",
       "    }\n",
       "</style>\n",
       "<table border=\"1\" class=\"dataframe\">\n",
       "  <thead>\n",
       "    <tr style=\"text-align: right;\">\n",
       "      <th></th>\n",
       "      <th>JobSatisfaction</th>\n",
       "      <th>HoursPerWeek</th>\n",
       "    </tr>\n",
       "  </thead>\n",
       "  <tbody>\n",
       "    <tr>\n",
       "      <th>3</th>\n",
       "      <td>3.0</td>\n",
       "      <td>5.0</td>\n",
       "    </tr>\n",
       "    <tr>\n",
       "      <th>6</th>\n",
       "      <td>6.0</td>\n",
       "      <td>1.0</td>\n",
       "    </tr>\n",
       "    <tr>\n",
       "      <th>7</th>\n",
       "      <td>7.0</td>\n",
       "      <td>1.0</td>\n",
       "    </tr>\n",
       "    <tr>\n",
       "      <th>8</th>\n",
       "      <td>6.0</td>\n",
       "      <td>2.0</td>\n",
       "    </tr>\n",
       "    <tr>\n",
       "      <th>9</th>\n",
       "      <td>8.0</td>\n",
       "      <td>1.0</td>\n",
       "    </tr>\n",
       "    <tr>\n",
       "      <th>...</th>\n",
       "      <td>...</td>\n",
       "      <td>...</td>\n",
       "    </tr>\n",
       "    <tr>\n",
       "      <th>51385</th>\n",
       "      <td>7.0</td>\n",
       "      <td>4.0</td>\n",
       "    </tr>\n",
       "    <tr>\n",
       "      <th>51386</th>\n",
       "      <td>4.0</td>\n",
       "      <td>2.0</td>\n",
       "    </tr>\n",
       "    <tr>\n",
       "      <th>51387</th>\n",
       "      <td>3.0</td>\n",
       "      <td>5.0</td>\n",
       "    </tr>\n",
       "    <tr>\n",
       "      <th>51390</th>\n",
       "      <td>7.0</td>\n",
       "      <td>1.0</td>\n",
       "    </tr>\n",
       "    <tr>\n",
       "      <th>51391</th>\n",
       "      <td>8.0</td>\n",
       "      <td>2.0</td>\n",
       "    </tr>\n",
       "  </tbody>\n",
       "</table>\n",
       "<p>16508 rows × 2 columns</p>\n",
       "</div>"
      ],
      "text/plain": [
       "       JobSatisfaction  HoursPerWeek\n",
       "3                  3.0           5.0\n",
       "6                  6.0           1.0\n",
       "7                  7.0           1.0\n",
       "8                  6.0           2.0\n",
       "9                  8.0           1.0\n",
       "...                ...           ...\n",
       "51385              7.0           4.0\n",
       "51386              4.0           2.0\n",
       "51387              3.0           5.0\n",
       "51390              7.0           1.0\n",
       "51391              8.0           2.0\n",
       "\n",
       "[16508 rows x 2 columns]"
      ]
     },
     "execution_count": 129,
     "metadata": {},
     "output_type": "execute_result"
    }
   ],
   "source": [
    "cols_to_keep = ['JobSatisfaction', 'HoursPerWeek']\n",
    "df_hours = prepare_df(df, cols_to_keep)\n",
    "df_hours"
   ]
  },
  {
   "cell_type": "markdown",
   "id": "e17baa1c",
   "metadata": {},
   "source": [
    "> Drop HoursPerWeek = 0 for only recognizing people who are working."
   ]
  },
  {
   "cell_type": "code",
   "execution_count": 133,
   "id": "e50c2f24",
   "metadata": {},
   "outputs": [
    {
     "data": {
      "text/plain": [
       "1.0     5083\n",
       "2.0     2452\n",
       "3.0      972\n",
       "4.0      869\n",
       "5.0      736\n",
       "40.0     378\n",
       "10.0     366\n",
       "6.0      316\n",
       "8.0      231\n",
       "7.0      175\n",
       "20.0     131\n",
       "12.0      79\n",
       "15.0      73\n",
       "9.0       63\n",
       "14.0      38\n",
       "11.0      37\n",
       "35.0      26\n",
       "19.0      22\n",
       "16.0      22\n",
       "30.0      21\n",
       "13.0      20\n",
       "18.0      17\n",
       "21.0      17\n",
       "38.0      14\n",
       "24.0      14\n",
       "25.0      14\n",
       "17.0      14\n",
       "39.0      13\n",
       "37.0      12\n",
       "22.0      11\n",
       "36.0      10\n",
       "32.0       8\n",
       "27.0       8\n",
       "23.0       7\n",
       "26.0       5\n",
       "34.0       5\n",
       "28.0       4\n",
       "33.0       3\n",
       "29.0       2\n",
       "31.0       1\n",
       "Name: HoursPerWeek, dtype: int64"
      ]
     },
     "execution_count": 133,
     "metadata": {},
     "output_type": "execute_result"
    }
   ],
   "source": [
    "df_hours = df_hours.query('HoursPerWeek != 0')\n",
    "df_hours['HoursPerWeek'].value_counts()"
   ]
  },
  {
   "cell_type": "code",
   "execution_count": 134,
   "id": "a2efbefe",
   "metadata": {},
   "outputs": [
    {
     "data": {
      "image/png": "[encoded data removed]",
      "text/plain": [
       "<Figure size 432x288 with 1 Axes>"
      ]
     },
     "metadata": {
      "needs_background": "light"
     },
     "output_type": "display_data"
    }
   ],
   "source": [
    "sb.barplot(data=df_hours, x='JobSatisfaction', y='HoursPerWeek', palette='Oranges')\n",
    "plt.title(\"Average HoursPerWeek by JobSatisfaction\")\n",
    "plt.ylabel(\"Average HoursPerWeek\");"
   ]
  },
  {
   "cell_type": "code",
   "execution_count": null,
   "id": "877587e7",
   "metadata": {},
   "outputs": [],
   "source": []
  }
 ],
 "metadata": {
  "kernelspec": {
   "display_name": "Python 3 (ipykernel)",
   "language": "python",
   "name": "python3"
  },
  "language_info": {
   "codemirror_mode": {
    "name": "ipython",
    "version": 3
   },
   "file_extension": ".py",
   "mimetype": "text/x-python",
   "name": "python",
   "nbconvert_exporter": "python",
   "pygments_lexer": "ipython3",
   "version": "3.9.7"
  }
 },
 "nbformat": 4,
 "nbformat_minor": 5
}
